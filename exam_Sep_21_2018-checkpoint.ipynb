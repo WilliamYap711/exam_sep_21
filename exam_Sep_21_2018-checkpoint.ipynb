{
 "cells": [
  {
   "cell_type": "markdown",
   "metadata": {},
   "source": [
    "Before you turn this problem in, make sure everything runs as expected. First, **restart the kernel** (in the menubar, select Kernel$\\rightarrow$Restart) and then **run all cells** (in the menubar, select Cell$\\rightarrow$Run All).\n",
    "\n",
    "Make sure you fill in any place that says `YOUR CODE HERE` or \"YOUR ANSWER HERE\", as well as your name and collaborators below:"
   ]
  },
  {
   "cell_type": "code",
   "execution_count": 1,
   "metadata": {},
   "outputs": [],
   "source": [
    "NAME = \"Yap Wei Liam 2009979\"\n",
    "COLLABORATORS = \"\""
   ]
  },
  {
   "cell_type": "markdown",
   "metadata": {},
   "source": [
    "---"
   ]
  },
  {
   "cell_type": "markdown",
   "metadata": {
    "deletable": false,
    "editable": false,
    "nbgrader": {
     "checksum": "e53eb7da4b90cccdbeb5924177a0d295",
     "grade": false,
     "grade_id": "cell-bace731f185b39bb",
     "locked": true,
     "schema_version": 1,
     "solution": false
    }
   },
   "source": [
    "Fill in the cell above to provide us with your name and student number, like\n",
    "\n",
    "NAME = \"Adam Smith, #student number#\"\n",
    "\n",
    "where you replace \"#student number#\" with your ... (very good!)\n",
    "\n",
    "Unfortunately, you are not allowed to work with \"COLLABORATORS\" in this exam."
   ]
  },
  {
   "cell_type": "markdown",
   "metadata": {
    "deletable": false,
    "editable": false,
    "nbgrader": {
     "checksum": "54f2a7cc5a4285f9082c5f4f2ff532f6",
     "grade": false,
     "grade_id": "cell-895e9a7b94992ec9",
     "locked": true,
     "schema_version": 1,
     "solution": false
    }
   },
   "source": [
    "# exam September 21st, 2018\n",
    "\n",
    "With this python part of the exam you can earn at max. 4 points.\n",
    "\n"
   ]
  },
  {
   "cell_type": "markdown",
   "metadata": {
    "deletable": false,
    "editable": false,
    "nbgrader": {
     "checksum": "611902f9d15318425217ea7c9329d3c4",
     "grade": false,
     "grade_id": "cell-540987818af25557",
     "locked": true,
     "schema_version": 1,
     "solution": false
    }
   },
   "source": [
    "\n",
    "In the first cell of the notebook, give us your name and student number in the way indicated above. \n",
    "\n",
    "Fill in the notebook (see below for code cells and text cells that you need to fill in).\n",
    "\n",
    "If you look at the menus above (File, Edit, View etc.), there is one called \"Cell\". If you click on this, you can change the \"Cell Type\". Choose \"Code\" when you are typing python or R code. Choose \"Markdown\" when you are typing, well, markdown.\n",
    "\n",
    "When you finish the notebook, make sure that you **save it with the output of your code included**. \n",
    "\n",
    "Then put it on github, e.g. by dragging it onto github (see instructions below). \n",
    "\n",
    "Finally, add a link to your README file with the name of this exam: \"Exam September 21, 2018\".\n",
    "\n"
   ]
  },
  {
   "cell_type": "markdown",
   "metadata": {
    "deletable": false,
    "editable": false,
    "nbgrader": {
     "checksum": "fbb9342b1fc9100447270d34e2af2d0b",
     "grade": false,
     "grade_id": "cell-e1cf88cb799f1f43",
     "locked": true,
     "schema_version": 1,
     "solution": false
    }
   },
   "source": [
    "## Generating and plotting data\n",
    "\n",
    "We start by importing the usual libraries."
   ]
  },
  {
   "cell_type": "code",
   "execution_count": 2,
   "metadata": {
    "deletable": false,
    "editable": false,
    "nbgrader": {
     "checksum": "7bd770ef54db47c3b6c8d0e31f6baef6",
     "grade": false,
     "grade_id": "cell-b895769bf40e183a",
     "locked": true,
     "schema_version": 1,
     "solution": false
    }
   },
   "outputs": [],
   "source": [
    "import matplotlib.pyplot as plt\n",
    "import pandas as pd\n",
    "import numpy as np\n",
    "from scipy import optimize\n",
    "%matplotlib inline"
   ]
  },
  {
   "cell_type": "markdown",
   "metadata": {
    "deletable": false,
    "editable": false,
    "nbgrader": {
     "checksum": "1133b2e8cbde213d1adfe10ae743bcb3",
     "grade": false,
     "grade_id": "cell-83284c4090d6de8c",
     "locked": true,
     "schema_version": 1,
     "solution": false
    }
   },
   "source": [
    "#### a) [0.5 point] Explain in words what the following code does. "
   ]
  },
  {
   "cell_type": "code",
   "execution_count": 3,
   "metadata": {
    "deletable": false,
    "editable": false,
    "nbgrader": {
     "checksum": "bc85672d4250f9fa3da40069544edd8a",
     "grade": false,
     "grade_id": "cell-7770128c0a989c60",
     "locked": true,
     "schema_version": 1,
     "solution": false
    }
   },
   "outputs": [],
   "source": [
    "n_observations = 100\n",
    "x = np.random.uniform(0,2,size=n_observations)\n",
    "df = pd.DataFrame({'x': x})"
   ]
  },
  {
   "cell_type": "code",
   "execution_count": 4,
   "metadata": {},
   "outputs": [
    {
     "name": "stdout",
     "output_type": "stream",
     "text": [
      "[1.26386202 1.68893958 1.59322303 0.23451245 1.63019364 1.10579828\n",
      " 1.34541553 1.11478688 0.74165495 1.8432788  1.24698793 0.08451055\n",
      " 1.88498084 1.98148289 0.78155687 0.44782408 1.12113544 0.67215071\n",
      " 1.81018618 1.24446194 0.80721669 1.19220541 0.31792576 0.33087357\n",
      " 0.77003547 1.49059075 1.57921762 0.41580275 1.67957401 0.57308722\n",
      " 0.79152407 0.8711137  0.65179971 1.83526258 1.44176786 1.22282007\n",
      " 1.457187   0.53099884 0.72722536 1.36695988 0.67154002 0.50526426\n",
      " 1.92263281 0.25825773 1.76343988 0.15932589 1.55474702 0.94773691\n",
      " 1.98002777 0.15952779 0.13300902 1.81230453 1.23966813 1.83448952\n",
      " 0.83676168 0.36685176 1.10695908 1.450813   0.72869163 1.35813794\n",
      " 1.7635748  1.30787875 0.04310642 1.82952167 1.98266285 0.35834925\n",
      " 1.29793513 1.89632952 1.01055809 0.50820765 1.78860217 1.1599072\n",
      " 1.35762685 0.29159158 0.94958933 1.13239936 1.64671995 1.68869246\n",
      " 0.69508303 0.29569777 0.92699764 1.59755317 0.79883573 0.32652267\n",
      " 0.58642116 0.6414855  1.7674386  1.06578472 1.82021971 0.03673498\n",
      " 0.62255296 1.10634676 0.29572799 1.30790014 1.23702847 0.03740914\n",
      " 1.17980153 0.23897947 0.33845059 1.01812724]\n"
     ]
    }
   ],
   "source": [
    "print(x) #checking x"
   ]
  },
  {
   "cell_type": "code",
   "execution_count": 5,
   "metadata": {},
   "outputs": [
    {
     "name": "stdout",
     "output_type": "stream",
     "text": [
      "           x\n",
      "0   1.263862\n",
      "1   1.688940\n",
      "2   1.593223\n",
      "3   0.234512\n",
      "4   1.630194\n",
      "5   1.105798\n",
      "6   1.345416\n",
      "7   1.114787\n",
      "8   0.741655\n",
      "9   1.843279\n",
      "10  1.246988\n",
      "11  0.084511\n",
      "12  1.884981\n",
      "13  1.981483\n",
      "14  0.781557\n",
      "15  0.447824\n",
      "16  1.121135\n",
      "17  0.672151\n",
      "18  1.810186\n",
      "19  1.244462\n",
      "20  0.807217\n",
      "21  1.192205\n",
      "22  0.317926\n",
      "23  0.330874\n",
      "24  0.770035\n",
      "25  1.490591\n",
      "26  1.579218\n",
      "27  0.415803\n",
      "28  1.679574\n",
      "29  0.573087\n",
      "..       ...\n",
      "70  1.788602\n",
      "71  1.159907\n",
      "72  1.357627\n",
      "73  0.291592\n",
      "74  0.949589\n",
      "75  1.132399\n",
      "76  1.646720\n",
      "77  1.688692\n",
      "78  0.695083\n",
      "79  0.295698\n",
      "80  0.926998\n",
      "81  1.597553\n",
      "82  0.798836\n",
      "83  0.326523\n",
      "84  0.586421\n",
      "85  0.641485\n",
      "86  1.767439\n",
      "87  1.065785\n",
      "88  1.820220\n",
      "89  0.036735\n",
      "90  0.622553\n",
      "91  1.106347\n",
      "92  0.295728\n",
      "93  1.307900\n",
      "94  1.237028\n",
      "95  0.037409\n",
      "96  1.179802\n",
      "97  0.238979\n",
      "98  0.338451\n",
      "99  1.018127\n",
      "\n",
      "[100 rows x 1 columns]\n"
     ]
    }
   ],
   "source": [
    "print(df) #checking the dataframe"
   ]
  },
  {
   "cell_type": "markdown",
   "metadata": {
    "deletable": false,
    "nbgrader": {
     "checksum": "cae5873581f8c1e95ad12b5596742e37",
     "grade": true,
     "grade_id": "cell-8a5761555a34b60b",
     "locked": false,
     "points": 0.5,
     "schema_version": 1,
     "solution": true
    }
   },
   "source": [
    "# 100 samples are uniformly distributed. They are drawn randomly from the interval of 0 to 2."
   ]
  },
  {
   "cell_type": "markdown",
   "metadata": {
    "deletable": false,
    "editable": false,
    "nbgrader": {
     "checksum": "30021008cb6073d160066f0435f60950",
     "grade": false,
     "grade_id": "cell-1a9c57d4d1fc34dc",
     "locked": true,
     "schema_version": 1,
     "solution": false
    }
   },
   "source": [
    "Now we are going to add some columns to the dataframe `df`."
   ]
  },
  {
   "cell_type": "markdown",
   "metadata": {
    "deletable": false,
    "editable": false,
    "nbgrader": {
     "checksum": "89171c99b0cc926935c561c0e75d0eef",
     "grade": false,
     "grade_id": "cell-3b8ee172d9950128",
     "locked": true,
     "schema_version": 1,
     "solution": false
    }
   },
   "source": [
    "#### b) [0.5 points] Add two columns to the data frame: (i) column `y` where $y=3*x+5$ and (ii) column `z` where $z = (x-1)^2$."
   ]
  },
  {
   "cell_type": "code",
   "execution_count": 6,
   "metadata": {
    "deletable": false,
    "nbgrader": {
     "checksum": "3b93c97ec42f6da5773b2c6beb2a8ec2",
     "grade": true,
     "grade_id": "cell-a5e7853f661e19b2",
     "locked": false,
     "points": 0.5,
     "schema_version": 1,
     "solution": true
    }
   },
   "outputs": [
    {
     "name": "stdout",
     "output_type": "stream",
     "text": [
      "           x          y\n",
      "0   1.263862   8.791586\n",
      "1   1.688940  10.066819\n",
      "2   1.593223   9.779669\n",
      "3   0.234512   5.703537\n",
      "4   1.630194   9.890581\n",
      "5   1.105798   8.317395\n",
      "6   1.345416   9.036247\n",
      "7   1.114787   8.344361\n",
      "8   0.741655   7.224965\n",
      "9   1.843279  10.529836\n",
      "10  1.246988   8.740964\n",
      "11  0.084511   5.253532\n",
      "12  1.884981  10.654943\n",
      "13  1.981483  10.944449\n",
      "14  0.781557   7.344671\n",
      "15  0.447824   6.343472\n",
      "16  1.121135   8.363406\n",
      "17  0.672151   7.016452\n",
      "18  1.810186  10.430559\n",
      "19  1.244462   8.733386\n",
      "20  0.807217   7.421650\n",
      "21  1.192205   8.576616\n",
      "22  0.317926   5.953777\n",
      "23  0.330874   5.992621\n",
      "24  0.770035   7.310106\n",
      "25  1.490591   9.471772\n",
      "26  1.579218   9.737653\n",
      "27  0.415803   6.247408\n",
      "28  1.679574  10.038722\n",
      "29  0.573087   6.719262\n",
      "..       ...        ...\n",
      "70  1.788602  10.365807\n",
      "71  1.159907   8.479722\n",
      "72  1.357627   9.072881\n",
      "73  0.291592   5.874775\n",
      "74  0.949589   7.848768\n",
      "75  1.132399   8.397198\n",
      "76  1.646720   9.940160\n",
      "77  1.688692  10.066077\n",
      "78  0.695083   7.085249\n",
      "79  0.295698   5.887093\n",
      "80  0.926998   7.780993\n",
      "81  1.597553   9.792660\n",
      "82  0.798836   7.396507\n",
      "83  0.326523   5.979568\n",
      "84  0.586421   6.759263\n",
      "85  0.641485   6.924456\n",
      "86  1.767439  10.302316\n",
      "87  1.065785   8.197354\n",
      "88  1.820220  10.460659\n",
      "89  0.036735   5.110205\n",
      "90  0.622553   6.867659\n",
      "91  1.106347   8.319040\n",
      "92  0.295728   5.887184\n",
      "93  1.307900   8.923700\n",
      "94  1.237028   8.711085\n",
      "95  0.037409   5.112227\n",
      "96  1.179802   8.539405\n",
      "97  0.238979   5.716938\n",
      "98  0.338451   6.015352\n",
      "99  1.018127   8.054382\n",
      "\n",
      "[100 rows x 2 columns]\n"
     ]
    }
   ],
   "source": [
    "#def y(x):\n",
    "#    return 3*x +5\n",
    "def z(x):                      #defining z function\n",
    "    return (x-1)**2\n",
    "df['y'] = df.apply(lambda x: 3*x +5)  #add  y as column in df\n",
    "\n",
    "#df['z'] = df.apply(lambda x: (x-1)**2)\n",
    "\n",
    "print(df)\n"
   ]
  },
  {
   "cell_type": "code",
   "execution_count": 7,
   "metadata": {},
   "outputs": [
    {
     "data": {
      "text/plain": [
       "array([6.96231675e-02, 4.74637750e-01, 3.51913567e-01, 5.85971187e-01,\n",
       "       3.97144019e-01, 1.11932756e-02, 1.19311888e-01, 1.31760284e-02,\n",
       "       6.67421665e-02, 7.11119136e-01, 6.10030357e-02, 8.38120937e-01,\n",
       "       7.83191082e-01, 9.63308657e-01, 4.77173996e-02, 3.04898247e-01,\n",
       "       1.46737951e-02, 1.07485159e-01, 6.56401652e-01, 5.97616395e-02,\n",
       "       3.71654052e-02, 3.69429209e-02, 4.65225263e-01, 4.47730177e-01,\n",
       "       5.28836872e-02, 2.40679281e-01, 3.35493046e-01, 3.41286426e-01,\n",
       "       4.61820835e-01, 1.82254520e-01, 4.34622144e-02, 1.66116771e-02,\n",
       "       1.21243442e-01, 6.97663582e-01, 1.95158843e-01, 4.96487832e-02,\n",
       "       2.09019955e-01, 2.19962091e-01, 7.44060041e-02, 1.34659553e-01,\n",
       "       1.07885961e-01, 2.44763448e-01, 8.51251305e-01, 5.50181596e-01,\n",
       "       5.82840444e-01, 7.06732964e-01, 3.07744251e-01, 2.73143019e-03,\n",
       "       9.60454437e-01, 7.06393533e-01, 7.51673361e-01, 6.59838645e-01,\n",
       "       5.74408113e-02, 6.96372760e-01, 2.66467482e-02, 4.00876688e-01,\n",
       "       1.14402439e-02, 2.03232359e-01, 7.36082314e-02, 1.28262785e-01,\n",
       "       5.83046476e-01, 9.47893247e-02, 9.15645323e-01, 6.88106196e-01,\n",
       "       9.65626271e-01, 4.11715683e-01, 8.87653390e-02, 8.03406612e-01,\n",
       "       1.11473165e-04, 2.41859714e-01, 6.21893384e-01, 2.55703115e-02,\n",
       "       1.27896965e-01, 5.01842490e-01, 2.54123540e-03, 1.75295896e-02,\n",
       "       4.18246688e-01, 4.74297298e-01, 9.29743590e-02, 4.96041633e-01,\n",
       "       5.32934469e-03, 3.57069792e-01, 4.04670641e-02, 4.53571708e-01,\n",
       "       1.71047460e-01, 1.28532647e-01, 5.88961998e-01, 4.32762984e-03,\n",
       "       6.72760366e-01, 9.27879502e-01, 1.42466270e-01, 1.13096340e-02,\n",
       "       4.95999067e-01, 9.48024954e-02, 5.61824944e-02, 9.26581166e-01,\n",
       "       3.23285913e-02, 5.79152246e-01, 4.37647623e-01, 3.28596737e-04])"
      ]
     },
     "execution_count": 7,
     "metadata": {},
     "output_type": "execute_result"
    }
   ],
   "source": [
    "z(x)"
   ]
  },
  {
   "cell_type": "code",
   "execution_count": null,
   "metadata": {},
   "outputs": [],
   "source": []
  },
  {
   "cell_type": "code",
   "execution_count": null,
   "metadata": {},
   "outputs": [],
   "source": []
  },
  {
   "cell_type": "markdown",
   "metadata": {
    "deletable": false,
    "editable": false,
    "nbgrader": {
     "checksum": "42f4e83dc3792b0d2a08cda8eb7d4405",
     "grade": false,
     "grade_id": "cell-4b33762aa4a601fe",
     "locked": true,
     "schema_version": 1,
     "solution": false
    }
   },
   "source": [
    "#### c) [0.5 point] Calculate the means and standard deviations for `x` and `y`. \n",
    "\n",
    "[hint: you can do this with one command or with four separate commands]"
   ]
  },
  {
   "cell_type": "code",
   "execution_count": 8,
   "metadata": {},
   "outputs": [
    {
     "data": {
      "text/plain": [
       "1.0463466923771214"
      ]
     },
     "execution_count": 8,
     "metadata": {},
     "output_type": "execute_result"
    }
   ],
   "source": [
    "df[\"x\"].mean()\n"
   ]
  },
  {
   "cell_type": "code",
   "execution_count": 9,
   "metadata": {},
   "outputs": [
    {
     "data": {
      "text/plain": [
       "8.139040077131366"
      ]
     },
     "execution_count": 9,
     "metadata": {},
     "output_type": "execute_result"
    }
   ],
   "source": [
    "df[\"y\"].mean()\n"
   ]
  },
  {
   "cell_type": "code",
   "execution_count": 10,
   "metadata": {},
   "outputs": [
    {
     "data": {
      "text/plain": [
       "0.5730913334563497"
      ]
     },
     "execution_count": 10,
     "metadata": {},
     "output_type": "execute_result"
    }
   ],
   "source": [
    "df[\"x\"].std()"
   ]
  },
  {
   "cell_type": "code",
   "execution_count": 11,
   "metadata": {
    "deletable": false,
    "nbgrader": {
     "checksum": "024a1519155d681b57c85292df535a65",
     "grade": true,
     "grade_id": "cell-5ee215676b91f504",
     "locked": false,
     "points": 0.5,
     "schema_version": 1,
     "solution": true
    }
   },
   "outputs": [
    {
     "data": {
      "text/plain": [
       "1.7192740003690496"
      ]
     },
     "execution_count": 11,
     "metadata": {},
     "output_type": "execute_result"
    }
   ],
   "source": [
    "df[\"y\"].std()"
   ]
  },
  {
   "cell_type": "markdown",
   "metadata": {
    "deletable": false,
    "editable": false,
    "nbgrader": {
     "checksum": "12a2717f05680c0404067457f21dacc5",
     "grade": false,
     "grade_id": "cell-3cc076ae39753881",
     "locked": true,
     "schema_version": 1,
     "solution": false
    }
   },
   "source": [
    "#### d) [0.5 points] Use your knowledge of statistics to explain the relations (i) between the means of `x` and `y` and (ii) between the standard deviations of `x` and `y`."
   ]
  },
  {
   "cell_type": "code",
   "execution_count": 12,
   "metadata": {
    "deletable": false,
    "nbgrader": {
     "checksum": "6ac5f7f87f79a5a580298b70eb6603c6",
     "grade": true,
     "grade_id": "cell-0f18e4fded25833f",
     "locked": false,
     "points": 0.5,
     "schema_version": 1,
     "solution": true
    }
   },
   "outputs": [],
   "source": [
    "#mean of y = ((mean of x) * 3 +5).\n",
    "# standard deviation of y is the multiplication of 3 of standard deviation of x."
   ]
  },
  {
   "cell_type": "markdown",
   "metadata": {},
   "source": [
    "#### e) [1 point] Plot a histogram of `x` with fractions (not absolute numbers) on the vertical axis. Add the label $x$ to the horizontal axis."
   ]
  },
  {
   "cell_type": "code",
   "execution_count": 13,
   "metadata": {
    "deletable": false,
    "nbgrader": {
     "checksum": "0f23770a6c058f433beccc75429b57dc",
     "grade": true,
     "grade_id": "cell-e88dc4842fb2c38c",
     "locked": false,
     "points": 1,
     "schema_version": 1,
     "solution": true
    }
   },
   "outputs": [
    {
     "data": {
      "text/plain": [
       "Text(0.5,0,'x')"
      ]
     },
     "execution_count": 13,
     "metadata": {},
     "output_type": "execute_result"
    },
    {
     "data": {
      "image/png": "[encoded data removed]",
      "text/plain": [
       "<Figure size 432x288 with 1 Axes>"
      ]
     },
     "metadata": {},
     "output_type": "display_data"
    }
   ],
   "source": [
    "plt.hist(x, bins=30)\n",
    "plt.xlabel('x')"
   ]
  },
  {
   "cell_type": "markdown",
   "metadata": {
    "deletable": false,
    "editable": false,
    "nbgrader": {
     "checksum": "da92092c0fc6badf93776373de6f98c0",
     "grade": false,
     "grade_id": "cell-9847a5147fc6bc0b",
     "locked": true,
     "schema_version": 1,
     "solution": false
    }
   },
   "source": [
    "#### f) [0.5 points] Make a scatter plot of `y` vs `z` with the label $y$ on the horizontal axis and the label $z$ on the vertical axis."
   ]
  },
  {
   "cell_type": "code",
   "execution_count": 14,
   "metadata": {
    "deletable": false,
    "nbgrader": {
     "checksum": "d9385c965608e0babffe255a7d375e19",
     "grade": true,
     "grade_id": "cell-6c036cfb38c024d3",
     "locked": false,
     "points": 0.5,
     "schema_version": 1,
     "solution": true
    }
   },
   "outputs": [
    {
     "data": {
      "image/png": "[encoded data removed]",
      "text/plain": [
       "<Figure size 432x288 with 1 Axes>"
      ]
     },
     "metadata": {},
     "output_type": "display_data"
    }
   ],
   "source": [
    "plt.scatter(df['y'], z(x))\n",
    "plt.xlabel(\"y\")\n",
    "plt.ylabel(\"z\")\n",
    "plt.show()\n"
   ]
  },
  {
   "cell_type": "markdown",
   "metadata": {},
   "source": [
    "This relation looks rather \"perfect\". We want to make a \"noisy\" version of this graph.\n",
    "\n",
    "#### g) [0.5 points] Create a variable `z2` equal to `z` but with some \"noise\" added to it. That is, add a random variable (vector) with mean 0 to `z` to get `z2`. Then plot `y` against `z2`. Adjust the standard deviation of the \"noise\" variable such that the shape of the figure under f) can still be recognized but not perfectly.\n",
    "\n",
    "[hint: under a) you have seen the library that contains functions to create a \"noisy variable\"]"
   ]
  },
  {
   "cell_type": "code",
   "execution_count": null,
   "metadata": {
    "deletable": false,
    "nbgrader": {
     "checksum": "86b22fc81cb0732c67f8ae691dc00bcb",
     "grade": true,
     "grade_id": "cell-7fa47e5d66a06417",
     "locked": false,
     "points": 0.5,
     "schema_version": 1,
     "solution": true
    }
   },
   "outputs": [],
   "source": []
  },
  {
   "cell_type": "markdown",
   "metadata": {},
   "source": [
    "## Github\n",
    "\n",
    "After you have finished, we need to upload this notebook on github."
   ]
  },
  {
   "cell_type": "markdown",
   "metadata": {},
   "source": [
    "Instructions on how to upload this on github can be found [on this page](http://janboone.github.io/programming-for-economists/github.html). This page has two screencasts: one shows how to drag the notebook onto your github page, the other shows how you can use the command line to upload your notebook.\n"
   ]
  },
  {
   "cell_type": "markdown",
   "metadata": {},
   "source": [
    "Remember to update the README file in your repository to include a link to this notebook on github.\n",
    "\n",
    "\n",
    "The links that you should post start with “github.com/” and are NOT of the form “http://localhost”. Make sure you test your links after uploading."
   ]
  },
  {
   "cell_type": "code",
   "execution_count": null,
   "metadata": {},
   "outputs": [],
   "source": []
  }
 ],
 "metadata": {
  "anaconda-cloud": {},
  "kernelspec": {
   "display_name": "Python 3",
   "language": "python",
   "name": "python3"
  },
  "language_info": {
   "codemirror_mode": {
    "name": "ipython",
    "version": 3
   },
   "file_extension": ".py",
   "mimetype": "text/x-python",
   "name": "python",
   "nbconvert_exporter": "python",
   "pygments_lexer": "ipython3",
   "version": "3.6.5"
  }
 },
 "nbformat": 4,
 "nbformat_minor": 1
}
